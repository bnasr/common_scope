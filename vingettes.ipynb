{
 "cells": [
  {
   "cell_type": "markdown",
   "metadata": {},
   "source": [
    "# Predicting Common Scope\n",
    "\n",
    "To predict common scope from home characteristics, I developed a simple `Python` module, stored in a separate file named: [`common_scope.py`](common_scope.py). This python module contains all the necessary functionalities to load, and preprocess the data, as well as modeling and predicting labels.\n",
    "\n",
    "The main class in the module is called `CommonScope` which includes the engine.\n",
    "\n",
    "In this vignette, I will explain how to use the class and then I apply the method on the holdout data.\n",
    "\n",
    "<img src=\"./images/house.png\" alt=\"House\" align=\"right\" style=\"width: 200px;\"/>\n",
    "\n"
   ]
  },
  {
   "cell_type": "markdown",
   "metadata": {},
   "source": [
    "### Loading `Matplotlib`\n",
    "\n",
    "As most of the class are loaded and used in the `CommonScope` module, here I only import `matplotlib` for visualizations.\n",
    "\n"
   ]
  },
  {
   "cell_type": "code",
   "execution_count": 48,
   "metadata": {},
   "outputs": [],
   "source": [
    "import pandas as pd\n",
    "import numpy as np\n",
    "from matplotlib import pyplot as plt\n",
    "\n",
    "from sklearn.metrics import mean_squared_error, mean_absolute_error, r2_score\n",
    "\n"
   ]
  },
  {
   "cell_type": "markdown",
   "metadata": {},
   "source": [
    "### Usage\n",
    "\n",
    "In addition to importing `CommonScope`, I also import a stand-alone function, called `summarize`, located in our module. The main goal of `summarize` is to provide a summary of columns and data types in the training and hold-out datasets.\n"
   ]
  },
  {
   "cell_type": "code",
   "execution_count": 2,
   "metadata": {},
   "outputs": [],
   "source": [
    "from common_scope import CommonScope, summarize"
   ]
  },
  {
   "cell_type": "markdown",
   "metadata": {},
   "source": [
    "To better understand the underlying procedure of our class, please refer to the module file: [`common_scope.py`](common_scope.py). \n",
    "\n",
    "The module, its class, methods and functions are documented using standard `Python Docustring`, as suggested by [PEP 257](https://www.python.org/dev/peps/pep-0257/)."
   ]
  },
  {
   "cell_type": "markdown",
   "metadata": {},
   "source": [
    "### `CommonScope` class instantiation\n",
    "\n",
    "**Method I**:\n",
    "The basic mehtod to instantiate the class is very straight-forward by passing the train and hold out files.\n",
    "\n",
    "The data files get processed and loaded in the class. If any exception occures, it will be caught and messaged to the user."
   ]
  },
  {
   "cell_type": "code",
   "execution_count": 3,
   "metadata": {},
   "outputs": [
    {
     "name": "stdout",
     "output_type": "stream",
     "text": [
      "\"data/development_df.csv\" was loaded as the training data set: 10919 x 40\n",
      "\"data/holdout_candidate_df.csv\" was loaded as the hold-out data set: 1580 x 39\n"
     ]
    }
   ],
   "source": [
    "# loading the class at the time of creating the instance\n",
    "\n",
    "cs = CommonScope(train_file = 'data/development_df.csv', \n",
    "                 holdout_file = 'data/holdout_candidate_df.csv')\n"
   ]
  },
  {
   "cell_type": "markdown",
   "metadata": {},
   "source": [
    "If things go well, the user sees success messages similar to above.\n",
    "\n",
    "**Method II**:\n",
    "Alternatively, these can be done in three steps for more transparency, as follows:"
   ]
  },
  {
   "cell_type": "code",
   "execution_count": 4,
   "metadata": {},
   "outputs": [
    {
     "name": "stdout",
     "output_type": "stream",
     "text": [
      "\"data/development_df.csv\" was loaded as the training data set: 10919 x 40\n",
      "\"data/holdout_candidate_df.csv\" was loaded as the hold-out data set: 1580 x 39\n"
     ]
    }
   ],
   "source": [
    "# class instantiation\n",
    "cs = CommonScope(model = 'Lasso')\n",
    "\n",
    "# loading the training file\n",
    "cs.load_data(file_path='data/development_df.csv')\n",
    "\n",
    "# loading the holdout file\n",
    "cs.load_data(file_path='data/holdout_candidate_df.csv', holdout = True)\n"
   ]
  },
  {
   "cell_type": "markdown",
   "metadata": {},
   "source": [
    "### Exploratory the data\n",
    "\n",
    "To facilitate data exploration, I have customized a method to summarize, data-type, number of unique values and missing fraction for each column in the data. This helps to decide about the modeling structure.\n",
    "\n",
    "The functionality can be accessed using the `summary` method."
   ]
  },
  {
   "cell_type": "code",
   "execution_count": 12,
   "metadata": {},
   "outputs": [
    {
     "data": {
      "text/html": [
       "<div>\n",
       "<style scoped>\n",
       "    .dataframe tbody tr th:only-of-type {\n",
       "        vertical-align: middle;\n",
       "    }\n",
       "\n",
       "    .dataframe tbody tr th {\n",
       "        vertical-align: top;\n",
       "    }\n",
       "\n",
       "    .dataframe thead th {\n",
       "        text-align: right;\n",
       "    }\n",
       "</style>\n",
       "<table border=\"1\" class=\"dataframe\">\n",
       "  <thead>\n",
       "    <tr style=\"text-align: right;\">\n",
       "      <th></th>\n",
       "      <th>column_name</th>\n",
       "      <th>data_type</th>\n",
       "      <th>unique_values</th>\n",
       "      <th>percent_missing</th>\n",
       "    </tr>\n",
       "  </thead>\n",
       "  <tbody>\n",
       "    <tr>\n",
       "      <th>has_renovation</th>\n",
       "      <td>has_renovation</td>\n",
       "      <td>bool</td>\n",
       "      <td>2</td>\n",
       "      <td>0.0</td>\n",
       "    </tr>\n",
       "    <tr>\n",
       "      <th>in_gated_community</th>\n",
       "      <td>in_gated_community</td>\n",
       "      <td>bool</td>\n",
       "      <td>2</td>\n",
       "      <td>0.0</td>\n",
       "    </tr>\n",
       "    <tr>\n",
       "      <th>renovation_amount</th>\n",
       "      <td>renovation_amount</td>\n",
       "      <td>int64</td>\n",
       "      <td>40</td>\n",
       "      <td>0.0</td>\n",
       "    </tr>\n",
       "    <tr>\n",
       "      <th>pool</th>\n",
       "      <td>pool</td>\n",
       "      <td>float64</td>\n",
       "      <td>2</td>\n",
       "      <td>0.0</td>\n",
       "    </tr>\n",
       "    <tr>\n",
       "      <th>total_finished_sq_ft</th>\n",
       "      <td>total_finished_sq_ft</td>\n",
       "      <td>float64</td>\n",
       "      <td>2520</td>\n",
       "      <td>0.0</td>\n",
       "    </tr>\n",
       "  </tbody>\n",
       "</table>\n",
       "</div>"
      ],
      "text/plain": [
       "                               column_name data_type  unique_values  \\\n",
       "has_renovation              has_renovation      bool              2   \n",
       "in_gated_community      in_gated_community      bool              2   \n",
       "renovation_amount        renovation_amount     int64             40   \n",
       "pool                                  pool   float64              2   \n",
       "total_finished_sq_ft  total_finished_sq_ft   float64           2520   \n",
       "\n",
       "                      percent_missing  \n",
       "has_renovation                    0.0  \n",
       "in_gated_community                0.0  \n",
       "renovation_amount                 0.0  \n",
       "pool                              0.0  \n",
       "total_finished_sq_ft              0.0  "
      ]
     },
     "execution_count": 12,
     "metadata": {},
     "output_type": "execute_result"
    }
   ],
   "source": [
    "# summarizing the training data\n",
    "\n",
    "summarize(cs.train_data).head()"
   ]
  },
  {
   "cell_type": "markdown",
   "metadata": {},
   "source": [
    "Similarly, I can quickly explore the hold out data"
   ]
  },
  {
   "cell_type": "code",
   "execution_count": 6,
   "metadata": {},
   "outputs": [],
   "source": [
    "# summarizing the holdout data\n",
    "holdout_summary = summarize(cs.holdout_data)"
   ]
  },
  {
   "cell_type": "markdown",
   "metadata": {},
   "source": [
    "## Data Challenges\n",
    "\n",
    "There are several challenges of this dataset, that I summarize as follows:\n",
    "\n",
    "1. Missing data\n",
    "2. Multifarious data (various types)\n",
    "3. Multi-Colinearity\n",
    "\n",
    "\n",
    "### 1. Missing Data\n",
    "I followed several approaches to address missing data problem:\n",
    " - For few columns with more than 40% missing data, I dropped the column.\n",
    " - For `integer` data types, I replaced the missing data with the `median` value on the training dataset\n",
    " - For `float` data types, I replaced the missing data with the `mean` value on the training dataset\n",
    " - For `object` data types, I replaced the missing data with the `most frequent` value on the training dataset\n",
    " \n",
    "**Note:** The gap-filling process was fit on the `training` dataset and then transform on both the `training` and `holdout` data. \n",
    " \n",
    " \n",
    "### 2. Multifarious data (various types)\n",
    "\n",
    "The original data was in various types, including: `boolean`, `integer`, `float`, `categorical` and `raw (unparsed) text`. Therefore, the data should be preprocessed to be used in the model. I took the following approach:\n",
    "- `boolean` data were transformed to 0 for False and 1 for True values.\n",
    "- `integer` data were used as is.\n",
    "- `float` data were used as is.\n",
    "- `categorical` data were transoformed to binary matrices, i.e. One-Hot-Encoding.\n",
    "- `raw (unparsed) text` data were first parsed to extract features and then used as binary matrices.\n",
    "\n",
    "\n",
    "### 3. Multi-Colinearity:\n",
    "I took two approaches to tackle this issue:\n",
    " - Using regulatization regression method such as *Lass* or *Ridge* Regression methods.\n",
    " - or dropping the highly correlated features. \n",
    " \n",
    "**For the second approach:** \n",
    "After preprocessing the feature matrix, I dropped colinear feature using our embeded routine based on a [Variance Inflation Factor](https://en.wikipedia.org/wiki/Variance_inflation_factor) threshold.\n",
    "\n",
    "\n",
    "This procedure is performed inside the `drop_colinearity` function in the `CommonScope` module."
   ]
  },
  {
   "cell_type": "markdown",
   "metadata": {},
   "source": [
    "## Modeling\n",
    "\n",
    "In the `CommonScope` Class, I implemented three different models as options: Linear Regression, Lasso Regression and Ridge Regression. All three can be easily called eighter when the `__init__` constructor is called or when the `fit` method is called. \n",
    "\n",
    "In addition to the these regression models, I also implemented a Neural Network in TensorFlow which does not show significant improvments over the regression methods.\n",
    "\n",
    "However, I took one step further and only for comparison porpuses, I trained an AutoML model on `Google Cloud Platfrom`. The main challenge for AutoML, however, is that there is little control on model tunning. And there would be an additional cost for modeling and predictions as well as for I/O. So I only compared the results from AutoML to the results from my home-grown `CommonScope` module.\n"
   ]
  },
  {
   "cell_type": "code",
   "execution_count": 14,
   "metadata": {},
   "outputs": [
    {
     "name": "stdout",
     "output_type": "stream",
     "text": [
      "{'train': {'R²': 0.3554973294967694, 'MAE': 3585.500088635188, 'rMSE': 5003.07800080008}, 'test': {'R²': 0.36139876302514473, 'MAE': 3524.1158468408607, 'rMSE': 4811.016886008233}}\n"
     ]
    },
    {
     "data": {
      "text/plain": [
       "{'model': Lasso(alpha=0.1, normalize=True),\n",
       " 'model_summary': {'train': {'R²': 0.3554973294967694,\n",
       "   'MAE': 3585.500088635188,\n",
       "   'rMSE': 5003.07800080008},\n",
       "  'test': {'R²': 0.36139876302514473,\n",
       "   'MAE': 3524.1158468408607,\n",
       "   'rMSE': 4811.016886008233}}}"
      ]
     },
     "execution_count": 14,
     "metadata": {},
     "output_type": "execute_result"
    }
   ],
   "source": [
    "cs.fit(verbose = True, \n",
    "       model = 'Lasso')"
   ]
  },
  {
   "cell_type": "markdown",
   "metadata": {},
   "source": [
    "## Predictions for the Hold-out Data"
   ]
  },
  {
   "cell_type": "code",
   "execution_count": 20,
   "metadata": {},
   "outputs": [
    {
     "data": {
      "text/html": [
       "<div>\n",
       "<style scoped>\n",
       "    .dataframe tbody tr th:only-of-type {\n",
       "        vertical-align: middle;\n",
       "    }\n",
       "\n",
       "    .dataframe tbody tr th {\n",
       "        vertical-align: top;\n",
       "    }\n",
       "\n",
       "    .dataframe thead th {\n",
       "        text-align: right;\n",
       "    }\n",
       "</style>\n",
       "<table border=\"1\" class=\"dataframe\">\n",
       "  <thead>\n",
       "    <tr style=\"text-align: right;\">\n",
       "      <th></th>\n",
       "      <th>flip_token</th>\n",
       "      <th>prediction</th>\n",
       "    </tr>\n",
       "  </thead>\n",
       "  <tbody>\n",
       "    <tr>\n",
       "      <th>0</th>\n",
       "      <td>560EQGK7A1YM</td>\n",
       "      <td>8253.744871</td>\n",
       "    </tr>\n",
       "    <tr>\n",
       "      <th>1</th>\n",
       "      <td>N283R19X7QWF</td>\n",
       "      <td>7019.699259</td>\n",
       "    </tr>\n",
       "    <tr>\n",
       "      <th>2</th>\n",
       "      <td>7HNA53BSS2D92</td>\n",
       "      <td>3604.332270</td>\n",
       "    </tr>\n",
       "    <tr>\n",
       "      <th>3</th>\n",
       "      <td>NN5R58HDGFB2</td>\n",
       "      <td>-133.914589</td>\n",
       "    </tr>\n",
       "    <tr>\n",
       "      <th>4</th>\n",
       "      <td>2XDMCE3HDXNNP</td>\n",
       "      <td>11610.761356</td>\n",
       "    </tr>\n",
       "  </tbody>\n",
       "</table>\n",
       "</div>"
      ],
      "text/plain": [
       "      flip_token    prediction\n",
       "0   560EQGK7A1YM   8253.744871\n",
       "1   N283R19X7QWF   7019.699259\n",
       "2  7HNA53BSS2D92   3604.332270\n",
       "3   NN5R58HDGFB2   -133.914589\n",
       "4  2XDMCE3HDXNNP  11610.761356"
      ]
     },
     "execution_count": 20,
     "metadata": {},
     "output_type": "execute_result"
    }
   ],
   "source": [
    "holdout_preds = cs.predict(df= cs.holdout_data)\n",
    "\n",
    "holdout_preds = pd.DataFrame({'flip_token': cs.holdout_data.flip_token.to_list(),\n",
    "                             'prediction': holdout_preds.reshape(len(holdout_preds))})\n",
    "\n",
    "holdout_preds.head()\n",
    "\n"
   ]
  },
  {
   "cell_type": "markdown",
   "metadata": {},
   "source": [
    "### Exporting the predictions"
   ]
  },
  {
   "cell_type": "code",
   "execution_count": 19,
   "metadata": {},
   "outputs": [],
   "source": [
    "holdout_preds.to_csv('data/holdout_predictions.csv', \n",
    "                     index = False)"
   ]
  },
  {
   "cell_type": "markdown",
   "metadata": {},
   "source": [
    "## Comparison against the AutoML model\n",
    "\n",
    "Below I compare the results from my model with results from an AutoML that I trained on GCP."
   ]
  },
  {
   "cell_type": "code",
   "execution_count": 70,
   "metadata": {},
   "outputs": [
    {
     "data": {
      "image/png": "[encoded data removed]",
      "text/plain": [
       "<Figure size 432x288 with 1 Axes>"
      ]
     },
     "metadata": {
      "needs_background": "light"
     },
     "output_type": "display_data"
    },
    {
     "name": "stdout",
     "output_type": "stream",
     "text": [
      "R2 =  0.8055887842606219\n"
     ]
    }
   ],
   "source": [
    "automl_pred = pd.read_csv('data/holdout_predictions_automl.csv')\n",
    "\n",
    "bijan_vs_automl = holdout_preds.merge(automl_pred, \n",
    "                                      on= 'flip_token')\n",
    "\n",
    "plt.plot(bijan_vs_automl.prediction, \n",
    "         bijan_vs_automl.automl_predictions, \n",
    "         'o', \n",
    "         color='orange')\n",
    "\n",
    "plt.xlabel(\"Bijan's Model\")\n",
    "plt.ylabel(\"AutoML\")\n",
    "\n",
    "plt.show()\n",
    "\n",
    "print('R2 = ', r2_score(bijan_vs_automl.prediction, \n",
    "                   bijan_vs_automl.automl_predictions))"
   ]
  },
  {
   "cell_type": "code",
   "execution_count": null,
   "metadata": {},
   "outputs": [],
   "source": []
  }
 ],
 "metadata": {
  "kernelspec": {
   "display_name": "Python 3",
   "language": "python",
   "name": "python3"
  },
  "language_info": {
   "codemirror_mode": {
    "name": "ipython",
    "version": 3
   },
   "file_extension": ".py",
   "mimetype": "text/x-python",
   "name": "python",
   "nbconvert_exporter": "python",
   "pygments_lexer": "ipython3",
   "version": "3.8.5"
  }
 },
 "nbformat": 4,
 "nbformat_minor": 4
}
