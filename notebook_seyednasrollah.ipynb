{
 "cells": [
  {
   "cell_type": "markdown",
   "metadata": {},
   "source": [
    "**Important Note:**\n",
    "\n",
    "This notebook relies on a local python module developed by the author. The file , called `common_scope.py`, should be in the same directory.\n",
    "\n",
    "A copy of the contain of the module is provided at the end of this notebook. \n",
    "\n"
   ]
  },
  {
   "cell_type": "code",
   "execution_count": 1,
   "metadata": {
    "colab": {
     "base_uri": "https://localhost:8080/"
    },
    "executionInfo": {
     "elapsed": 20873,
     "status": "ok",
     "timestamp": 1617301698781,
     "user": {
      "displayName": "Bijan Seyednasrollah",
      "photoUrl": "https://lh3.googleusercontent.com/a-/AOh14Ggf_DzMxoOJiOB5ZJH4-aYWJbCyVxpnO2QV_3xkbg=s64",
      "userId": "13192249900192703380"
     },
     "user_tz": 420
    },
    "id": "hpnwbbDgsNxf",
    "outputId": "ec8e042f-2388-49a4-a95d-052b9b1a0fd5"
   },
   "outputs": [],
   "source": [
    "# run this cell only when loaded from Google Colab\n",
    "# from google.colab import drive\n",
    "# drive.mount('/content/drive')"
   ]
  },
  {
   "cell_type": "code",
   "execution_count": 2,
   "metadata": {
    "colab": {
     "base_uri": "https://localhost:8080/"
    },
    "executionInfo": {
     "elapsed": 450,
     "status": "ok",
     "timestamp": 1617302735111,
     "user": {
      "displayName": "Bijan Seyednasrollah",
      "photoUrl": "https://lh3.googleusercontent.com/a-/AOh14Ggf_DzMxoOJiOB5ZJH4-aYWJbCyVxpnO2QV_3xkbg=s64",
      "userId": "13192249900192703380"
     },
     "user_tz": 420
    },
    "id": "gPoMssPjsYhr",
    "outputId": "ef85579b-5703-481d-b40e-b9ed10630885"
   },
   "outputs": [],
   "source": [
    "# change the working directory\n",
    "#%cd /content/drive/MyDrive/OpenDoor"
   ]
  },
  {
   "cell_type": "code",
   "execution_count": 3,
   "metadata": {
    "colab": {
     "base_uri": "https://localhost:8080/",
     "height": 344
    },
    "executionInfo": {
     "elapsed": 10819,
     "status": "ok",
     "timestamp": 1617302610126,
     "user": {
      "displayName": "Bijan Seyednasrollah",
      "photoUrl": "https://lh3.googleusercontent.com/a-/AOh14Ggf_DzMxoOJiOB5ZJH4-aYWJbCyVxpnO2QV_3xkbg=s64",
      "userId": "13192249900192703380"
     },
     "user_tz": 420
    },
    "id": "AP35xrgJvvOq",
    "outputId": "f0d7e4cb-5c5d-4055-fa18-f5d463e70c1a"
   },
   "outputs": [],
   "source": [
    "# to update scikit-learn\n",
    "#%pip install -U scikit-learn"
   ]
  },
  {
   "cell_type": "markdown",
   "metadata": {
    "id": "4rspt0g7sGHc"
   },
   "source": [
    "# Predicting Common Scope\n",
    "\n",
    "To predict common scope from home characteristics, I developed a simple `Python` module, stored in a separate file named: [`common_scope.py`](common_scope.py). This python module contains all the necessary functionalities to load, and preprocess the data, as well as modeling and predicting labels.\n",
    "\n",
    "The main class in the module is called `CommonScope` which includes the engine.\n",
    "\n",
    "In this vignette, I will explain how to use the class and then I apply the method on the holdout data.\n",
    "\n",
    "<img src=\"./images/house.png\" alt=\"House\" align=\"right\" style=\"width: 200px;\"/>\n",
    "\n"
   ]
  },
  {
   "cell_type": "markdown",
   "metadata": {
    "id": "9lMW1e2zsGHg"
   },
   "source": [
    "### Loading `Matplotlib`\n",
    "\n",
    "As most of the class are loaded and used in the `CommonScope` module, here I only import `matplotlib` for visualizations.\n",
    "\n"
   ]
  },
  {
   "cell_type": "code",
   "execution_count": 4,
   "metadata": {
    "executionInfo": {
     "elapsed": 820,
     "status": "ok",
     "timestamp": 1617302736719,
     "user": {
      "displayName": "Bijan Seyednasrollah",
      "photoUrl": "https://lh3.googleusercontent.com/a-/AOh14Ggf_DzMxoOJiOB5ZJH4-aYWJbCyVxpnO2QV_3xkbg=s64",
      "userId": "13192249900192703380"
     },
     "user_tz": 420
    },
    "id": "TmHT9Qr_sGHg"
   },
   "outputs": [],
   "source": [
    "import pandas as pd\n",
    "import numpy as np\n",
    "import matplotlib\n",
    "from matplotlib import pyplot as plt\n",
    "\n",
    "from sklearn.metrics import mean_squared_error, mean_absolute_error, r2_score"
   ]
  },
  {
   "cell_type": "code",
   "execution_count": 5,
   "metadata": {},
   "outputs": [],
   "source": [
    "# configuration of matplotlib\n",
    "\n",
    "plt.rcParams['figure.figsize'] = [8, 6]\n",
    "plt.rcParams['figure.dpi'] = 100 # 200 e.g. is really fine, but slower\n",
    "plt.rcParams.update({'font.size': 16})"
   ]
  },
  {
   "cell_type": "code",
   "execution_count": 6,
   "metadata": {},
   "outputs": [],
   "source": [
    "# helper function\n",
    "\n",
    "from IPython.display import Markdown, display\n",
    "def printmd(string):\n",
    "    display(Markdown(string))"
   ]
  },
  {
   "cell_type": "markdown",
   "metadata": {
    "id": "05F89uBxsGHg"
   },
   "source": [
    "### Usage\n",
    "\n",
    "In addition to importing my `CommonScope` class, I also import a stand-alone function, called `summarize`, located in the module. The main goal of `summarize` is to provide a summary of columns and data types in the training and hold-out datasets.\n"
   ]
  },
  {
   "cell_type": "code",
   "execution_count": 7,
   "metadata": {
    "colab": {
     "base_uri": "https://localhost:8080/"
    },
    "executionInfo": {
     "elapsed": 718,
     "status": "ok",
     "timestamp": 1617302736915,
     "user": {
      "displayName": "Bijan Seyednasrollah",
      "photoUrl": "https://lh3.googleusercontent.com/a-/AOh14Ggf_DzMxoOJiOB5ZJH4-aYWJbCyVxpnO2QV_3xkbg=s64",
      "userId": "13192249900192703380"
     },
     "user_tz": 420
    },
    "id": "0y_unc5jsGHg",
    "outputId": "a8f1f77f-9d1b-4eb2-9ccc-4763a7467cd6"
   },
   "outputs": [],
   "source": [
    "from common_scope import CommonScope, summarize"
   ]
  },
  {
   "cell_type": "markdown",
   "metadata": {
    "id": "tvU43ZztsGHg"
   },
   "source": [
    "To better understand the underlying procedure of our class, please refer to the module file: [`common_scope.py`](common_scope.py). \n",
    "\n",
    "The module, its class, methods and functions are documented using standard `Python Docustring`, as suggested by [PEP 257](https://www.python.org/dev/peps/pep-0257/)."
   ]
  },
  {
   "cell_type": "markdown",
   "metadata": {
    "id": "26r842hcsGHh"
   },
   "source": [
    "### `CommonScope` class instantiation\n",
    "\n",
    "**Method I**:\n",
    "The basic method to instantiate the class is very straight-forward by passing the train and hold out files.\n",
    "\n",
    "The data files get processed and loaded in the class. If any exception occurs, it will be caught and messaged to the user."
   ]
  },
  {
   "cell_type": "code",
   "execution_count": 8,
   "metadata": {
    "colab": {
     "base_uri": "https://localhost:8080/"
    },
    "executionInfo": {
     "elapsed": 414,
     "status": "ok",
     "timestamp": 1617302737113,
     "user": {
      "displayName": "Bijan Seyednasrollah",
      "photoUrl": "https://lh3.googleusercontent.com/a-/AOh14Ggf_DzMxoOJiOB5ZJH4-aYWJbCyVxpnO2QV_3xkbg=s64",
      "userId": "13192249900192703380"
     },
     "user_tz": 420
    },
    "id": "BQVt-EblsGHh",
    "outputId": "c87b4cf9-2cef-4a46-89eb-26e3e4a5c1c9"
   },
   "outputs": [
    {
     "name": "stdout",
     "output_type": "stream",
     "text": [
      "\"data/development_df.csv\" was loaded as the training data set: 10919 x 40\n",
      "\"data/holdout_candidate_df.csv\" was loaded as the hold-out data set: 1580 x 39\n"
     ]
    }
   ],
   "source": [
    "# loading the class at the time of creating the instance\n",
    "\n",
    "cs = CommonScope(model = 'Lasso',\n",
    "                 drop_colinears  = False,\n",
    "                 train_file = 'data/development_df.csv', \n",
    "                 holdout_file = 'data/holdout_candidate_df.csv')\n"
   ]
  },
  {
   "cell_type": "markdown",
   "metadata": {
    "id": "YwBSdlHksGHh"
   },
   "source": [
    "If things go well, the user sees success messages similar to above.\n",
    "\n",
    "**Method II**:\n",
    "Alternatively, these can be done in three steps for more transparency, as follows:"
   ]
  },
  {
   "cell_type": "code",
   "execution_count": 9,
   "metadata": {
    "colab": {
     "base_uri": "https://localhost:8080/"
    },
    "executionInfo": {
     "elapsed": 479,
     "status": "ok",
     "timestamp": 1617302738172,
     "user": {
      "displayName": "Bijan Seyednasrollah",
      "photoUrl": "https://lh3.googleusercontent.com/a-/AOh14Ggf_DzMxoOJiOB5ZJH4-aYWJbCyVxpnO2QV_3xkbg=s64",
      "userId": "13192249900192703380"
     },
     "user_tz": 420
    },
    "id": "MRxozDhWsGHi",
    "outputId": "fe90c878-f9c6-4cc4-866e-ceba8257f67d"
   },
   "outputs": [
    {
     "name": "stdout",
     "output_type": "stream",
     "text": [
      "\"data/development_df.csv\" was loaded as the training data set: 10919 x 40\n",
      "\"data/holdout_candidate_df.csv\" was loaded as the hold-out data set: 1580 x 39\n"
     ]
    }
   ],
   "source": [
    "# class instantiation\n",
    "cs = CommonScope(model = 'Ridge')\n",
    "\n",
    "# loading the training file\n",
    "cs.load_data(file_path='data/development_df.csv')\n",
    "\n",
    "# loading the holdout file\n",
    "cs.load_data(file_path='data/holdout_candidate_df.csv', holdout = True)\n"
   ]
  },
  {
   "cell_type": "markdown",
   "metadata": {
    "id": "_NZ3UAa2sGHi"
   },
   "source": [
    "### Exploring the data\n",
    "\n",
    "To facilitate data exploration, I have customized a method to summarize, data-type, number of unique values and missing fraction for each column in the data. This helps to decide about the modeling structure.\n",
    "\n",
    "The functionality can be accessed using the `summary` method."
   ]
  },
  {
   "cell_type": "code",
   "execution_count": 10,
   "metadata": {
    "colab": {
     "base_uri": "https://localhost:8080/",
     "height": 1000
    },
    "executionInfo": {
     "elapsed": 412,
     "status": "ok",
     "timestamp": 1617302741227,
     "user": {
      "displayName": "Bijan Seyednasrollah",
      "photoUrl": "https://lh3.googleusercontent.com/a-/AOh14Ggf_DzMxoOJiOB5ZJH4-aYWJbCyVxpnO2QV_3xkbg=s64",
      "userId": "13192249900192703380"
     },
     "user_tz": 420
    },
    "id": "x-ySHaiEsGHi",
    "outputId": "503dba18-c616-4cd2-a5b7-acd15c963eae"
   },
   "outputs": [
    {
     "data": {
      "text/html": [
       "<div>\n",
       "<style scoped>\n",
       "    .dataframe tbody tr th:only-of-type {\n",
       "        vertical-align: middle;\n",
       "    }\n",
       "\n",
       "    .dataframe tbody tr th {\n",
       "        vertical-align: top;\n",
       "    }\n",
       "\n",
       "    .dataframe thead th {\n",
       "        text-align: right;\n",
       "    }\n",
       "</style>\n",
       "<table border=\"1\" class=\"dataframe\">\n",
       "  <thead>\n",
       "    <tr style=\"text-align: right;\">\n",
       "      <th></th>\n",
       "      <th>column_name</th>\n",
       "      <th>data_type</th>\n",
       "      <th>unique_values</th>\n",
       "      <th>percent_missing</th>\n",
       "    </tr>\n",
       "  </thead>\n",
       "  <tbody>\n",
       "    <tr>\n",
       "      <th>has_renovation</th>\n",
       "      <td>has_renovation</td>\n",
       "      <td>bool</td>\n",
       "      <td>2</td>\n",
       "      <td>0.000000</td>\n",
       "    </tr>\n",
       "    <tr>\n",
       "      <th>in_gated_community</th>\n",
       "      <td>in_gated_community</td>\n",
       "      <td>bool</td>\n",
       "      <td>2</td>\n",
       "      <td>0.000000</td>\n",
       "    </tr>\n",
       "    <tr>\n",
       "      <th>renovation_amount</th>\n",
       "      <td>renovation_amount</td>\n",
       "      <td>int64</td>\n",
       "      <td>40</td>\n",
       "      <td>0.000000</td>\n",
       "    </tr>\n",
       "    <tr>\n",
       "      <th>pool</th>\n",
       "      <td>pool</td>\n",
       "      <td>float64</td>\n",
       "      <td>2</td>\n",
       "      <td>0.000000</td>\n",
       "    </tr>\n",
       "    <tr>\n",
       "      <th>total_finished_sq_ft</th>\n",
       "      <td>total_finished_sq_ft</td>\n",
       "      <td>float64</td>\n",
       "      <td>2520</td>\n",
       "      <td>0.000000</td>\n",
       "    </tr>\n",
       "    <tr>\n",
       "      <th>above_grade_sq_ft</th>\n",
       "      <td>above_grade_sq_ft</td>\n",
       "      <td>float64</td>\n",
       "      <td>2454</td>\n",
       "      <td>0.000000</td>\n",
       "    </tr>\n",
       "    <tr>\n",
       "      <th>age</th>\n",
       "      <td>age</td>\n",
       "      <td>float64</td>\n",
       "      <td>61</td>\n",
       "      <td>0.000000</td>\n",
       "    </tr>\n",
       "    <tr>\n",
       "      <th>f_days_since_prev_close</th>\n",
       "      <td>f_days_since_prev_close</td>\n",
       "      <td>float64</td>\n",
       "      <td>3910</td>\n",
       "      <td>0.000000</td>\n",
       "    </tr>\n",
       "    <tr>\n",
       "      <th>common_scope</th>\n",
       "      <td>common_scope</td>\n",
       "      <td>float64</td>\n",
       "      <td>9032</td>\n",
       "      <td>0.000000</td>\n",
       "    </tr>\n",
       "    <tr>\n",
       "      <th>bedrooms</th>\n",
       "      <td>bedrooms</td>\n",
       "      <td>float64</td>\n",
       "      <td>7</td>\n",
       "      <td>0.009158</td>\n",
       "    </tr>\n",
       "    <tr>\n",
       "      <th>bathrooms_half</th>\n",
       "      <td>bathrooms_half</td>\n",
       "      <td>float64</td>\n",
       "      <td>6</td>\n",
       "      <td>0.018317</td>\n",
       "    </tr>\n",
       "    <tr>\n",
       "      <th>garage_spaces</th>\n",
       "      <td>garage_spaces</td>\n",
       "      <td>float64</td>\n",
       "      <td>5</td>\n",
       "      <td>0.018317</td>\n",
       "    </tr>\n",
       "    <tr>\n",
       "      <th>sq_ft</th>\n",
       "      <td>sq_ft</td>\n",
       "      <td>float64</td>\n",
       "      <td>2486</td>\n",
       "      <td>0.054950</td>\n",
       "    </tr>\n",
       "    <tr>\n",
       "      <th>exterior_stories</th>\n",
       "      <td>exterior_stories</td>\n",
       "      <td>float64</td>\n",
       "      <td>3</td>\n",
       "      <td>0.082425</td>\n",
       "    </tr>\n",
       "    <tr>\n",
       "      <th>basement_finished_sq_ft</th>\n",
       "      <td>basement_finished_sq_ft</td>\n",
       "      <td>float64</td>\n",
       "      <td>247</td>\n",
       "      <td>0.201484</td>\n",
       "    </tr>\n",
       "    <tr>\n",
       "      <th>bathrooms_full</th>\n",
       "      <td>bathrooms_full</td>\n",
       "      <td>float64</td>\n",
       "      <td>5</td>\n",
       "      <td>1.053210</td>\n",
       "    </tr>\n",
       "    <tr>\n",
       "      <th>bathrooms</th>\n",
       "      <td>bathrooms</td>\n",
       "      <td>float64</td>\n",
       "      <td>21</td>\n",
       "      <td>44.399670</td>\n",
       "    </tr>\n",
       "    <tr>\n",
       "      <th>pool_above_ground</th>\n",
       "      <td>pool_above_ground</td>\n",
       "      <td>float64</td>\n",
       "      <td>2</td>\n",
       "      <td>44.399670</td>\n",
       "    </tr>\n",
       "    <tr>\n",
       "      <th>basement_unfinished_sq_ft</th>\n",
       "      <td>basement_unfinished_sq_ft</td>\n",
       "      <td>float64</td>\n",
       "      <td>201</td>\n",
       "      <td>64.428977</td>\n",
       "    </tr>\n",
       "    <tr>\n",
       "      <th>flip_token</th>\n",
       "      <td>flip_token</td>\n",
       "      <td>object</td>\n",
       "      <td>10919</td>\n",
       "      <td>0.000000</td>\n",
       "    </tr>\n",
       "    <tr>\n",
       "      <th>front_yard_condition</th>\n",
       "      <td>front_yard_condition</td>\n",
       "      <td>object</td>\n",
       "      <td>1</td>\n",
       "      <td>0.000000</td>\n",
       "    </tr>\n",
       "    <tr>\n",
       "      <th>valuation_date</th>\n",
       "      <td>valuation_date</td>\n",
       "      <td>object</td>\n",
       "      <td>10919</td>\n",
       "      <td>0.000000</td>\n",
       "    </tr>\n",
       "    <tr>\n",
       "      <th>market_name</th>\n",
       "      <td>market_name</td>\n",
       "      <td>object</td>\n",
       "      <td>9</td>\n",
       "      <td>0.000000</td>\n",
       "    </tr>\n",
       "    <tr>\n",
       "      <th>bathroom_condition</th>\n",
       "      <td>bathroom_condition</td>\n",
       "      <td>object</td>\n",
       "      <td>3</td>\n",
       "      <td>0.064108</td>\n",
       "    </tr>\n",
       "    <tr>\n",
       "      <th>kitchen_condition</th>\n",
       "      <td>kitchen_condition</td>\n",
       "      <td>object</td>\n",
       "      <td>3</td>\n",
       "      <td>0.064108</td>\n",
       "    </tr>\n",
       "    <tr>\n",
       "      <th>back_yard_condition</th>\n",
       "      <td>back_yard_condition</td>\n",
       "      <td>object</td>\n",
       "      <td>4</td>\n",
       "      <td>0.091583</td>\n",
       "    </tr>\n",
       "    <tr>\n",
       "      <th>kitchen_countertop</th>\n",
       "      <td>kitchen_countertop</td>\n",
       "      <td>object</td>\n",
       "      <td>10</td>\n",
       "      <td>0.091583</td>\n",
       "    </tr>\n",
       "    <tr>\n",
       "      <th>paint_condition</th>\n",
       "      <td>paint_condition</td>\n",
       "      <td>object</td>\n",
       "      <td>3</td>\n",
       "      <td>0.174009</td>\n",
       "    </tr>\n",
       "    <tr>\n",
       "      <th>eligibility_features</th>\n",
       "      <td>eligibility_features</td>\n",
       "      <td>object</td>\n",
       "      <td>36</td>\n",
       "      <td>0.320542</td>\n",
       "    </tr>\n",
       "    <tr>\n",
       "      <th>primary_floor_type</th>\n",
       "      <td>primary_floor_type</td>\n",
       "      <td>object</td>\n",
       "      <td>5</td>\n",
       "      <td>0.549501</td>\n",
       "    </tr>\n",
       "    <tr>\n",
       "      <th>secondary_floor_type</th>\n",
       "      <td>secondary_floor_type</td>\n",
       "      <td>object</td>\n",
       "      <td>5</td>\n",
       "      <td>0.549501</td>\n",
       "    </tr>\n",
       "    <tr>\n",
       "      <th>bathroom_features</th>\n",
       "      <td>bathroom_features</td>\n",
       "      <td>object</td>\n",
       "      <td>45</td>\n",
       "      <td>0.586134</td>\n",
       "    </tr>\n",
       "    <tr>\n",
       "      <th>kitchen_features</th>\n",
       "      <td>kitchen_features</td>\n",
       "      <td>object</td>\n",
       "      <td>34</td>\n",
       "      <td>0.613609</td>\n",
       "    </tr>\n",
       "    <tr>\n",
       "      <th>kitchen_appliance_type</th>\n",
       "      <td>kitchen_appliance_type</td>\n",
       "      <td>object</td>\n",
       "      <td>5</td>\n",
       "      <td>0.631926</td>\n",
       "    </tr>\n",
       "    <tr>\n",
       "      <th>hvac_age</th>\n",
       "      <td>hvac_age</td>\n",
       "      <td>object</td>\n",
       "      <td>4</td>\n",
       "      <td>1.163110</td>\n",
       "    </tr>\n",
       "    <tr>\n",
       "      <th>roof_age</th>\n",
       "      <td>roof_age</td>\n",
       "      <td>object</td>\n",
       "      <td>4</td>\n",
       "      <td>1.190585</td>\n",
       "    </tr>\n",
       "    <tr>\n",
       "      <th>secondary_floor_condition</th>\n",
       "      <td>secondary_floor_condition</td>\n",
       "      <td>object</td>\n",
       "      <td>3</td>\n",
       "      <td>2.344537</td>\n",
       "    </tr>\n",
       "    <tr>\n",
       "      <th>primary_floor_condition</th>\n",
       "      <td>primary_floor_condition</td>\n",
       "      <td>object</td>\n",
       "      <td>3</td>\n",
       "      <td>3.443539</td>\n",
       "    </tr>\n",
       "    <tr>\n",
       "      <th>floor_type</th>\n",
       "      <td>floor_type</td>\n",
       "      <td>object</td>\n",
       "      <td>5</td>\n",
       "      <td>97.966847</td>\n",
       "    </tr>\n",
       "    <tr>\n",
       "      <th>floor_condition</th>\n",
       "      <td>floor_condition</td>\n",
       "      <td>object</td>\n",
       "      <td>4</td>\n",
       "      <td>97.976005</td>\n",
       "    </tr>\n",
       "  </tbody>\n",
       "</table>\n",
       "</div>"
      ],
      "text/plain": [
       "                                         column_name data_type  unique_values  \\\n",
       "has_renovation                        has_renovation      bool              2   \n",
       "in_gated_community                in_gated_community      bool              2   \n",
       "renovation_amount                  renovation_amount     int64             40   \n",
       "pool                                            pool   float64              2   \n",
       "total_finished_sq_ft            total_finished_sq_ft   float64           2520   \n",
       "above_grade_sq_ft                  above_grade_sq_ft   float64           2454   \n",
       "age                                              age   float64             61   \n",
       "f_days_since_prev_close      f_days_since_prev_close   float64           3910   \n",
       "common_scope                            common_scope   float64           9032   \n",
       "bedrooms                                    bedrooms   float64              7   \n",
       "bathrooms_half                        bathrooms_half   float64              6   \n",
       "garage_spaces                          garage_spaces   float64              5   \n",
       "sq_ft                                          sq_ft   float64           2486   \n",
       "exterior_stories                    exterior_stories   float64              3   \n",
       "basement_finished_sq_ft      basement_finished_sq_ft   float64            247   \n",
       "bathrooms_full                        bathrooms_full   float64              5   \n",
       "bathrooms                                  bathrooms   float64             21   \n",
       "pool_above_ground                  pool_above_ground   float64              2   \n",
       "basement_unfinished_sq_ft  basement_unfinished_sq_ft   float64            201   \n",
       "flip_token                                flip_token    object          10919   \n",
       "front_yard_condition            front_yard_condition    object              1   \n",
       "valuation_date                        valuation_date    object          10919   \n",
       "market_name                              market_name    object              9   \n",
       "bathroom_condition                bathroom_condition    object              3   \n",
       "kitchen_condition                  kitchen_condition    object              3   \n",
       "back_yard_condition              back_yard_condition    object              4   \n",
       "kitchen_countertop                kitchen_countertop    object             10   \n",
       "paint_condition                      paint_condition    object              3   \n",
       "eligibility_features            eligibility_features    object             36   \n",
       "primary_floor_type                primary_floor_type    object              5   \n",
       "secondary_floor_type            secondary_floor_type    object              5   \n",
       "bathroom_features                  bathroom_features    object             45   \n",
       "kitchen_features                    kitchen_features    object             34   \n",
       "kitchen_appliance_type        kitchen_appliance_type    object              5   \n",
       "hvac_age                                    hvac_age    object              4   \n",
       "roof_age                                    roof_age    object              4   \n",
       "secondary_floor_condition  secondary_floor_condition    object              3   \n",
       "primary_floor_condition      primary_floor_condition    object              3   \n",
       "floor_type                                floor_type    object              5   \n",
       "floor_condition                      floor_condition    object              4   \n",
       "\n",
       "                           percent_missing  \n",
       "has_renovation                    0.000000  \n",
       "in_gated_community                0.000000  \n",
       "renovation_amount                 0.000000  \n",
       "pool                              0.000000  \n",
       "total_finished_sq_ft              0.000000  \n",
       "above_grade_sq_ft                 0.000000  \n",
       "age                               0.000000  \n",
       "f_days_since_prev_close           0.000000  \n",
       "common_scope                      0.000000  \n",
       "bedrooms                          0.009158  \n",
       "bathrooms_half                    0.018317  \n",
       "garage_spaces                     0.018317  \n",
       "sq_ft                             0.054950  \n",
       "exterior_stories                  0.082425  \n",
       "basement_finished_sq_ft           0.201484  \n",
       "bathrooms_full                    1.053210  \n",
       "bathrooms                        44.399670  \n",
       "pool_above_ground                44.399670  \n",
       "basement_unfinished_sq_ft        64.428977  \n",
       "flip_token                        0.000000  \n",
       "front_yard_condition              0.000000  \n",
       "valuation_date                    0.000000  \n",
       "market_name                       0.000000  \n",
       "bathroom_condition                0.064108  \n",
       "kitchen_condition                 0.064108  \n",
       "back_yard_condition               0.091583  \n",
       "kitchen_countertop                0.091583  \n",
       "paint_condition                   0.174009  \n",
       "eligibility_features              0.320542  \n",
       "primary_floor_type                0.549501  \n",
       "secondary_floor_type              0.549501  \n",
       "bathroom_features                 0.586134  \n",
       "kitchen_features                  0.613609  \n",
       "kitchen_appliance_type            0.631926  \n",
       "hvac_age                          1.163110  \n",
       "roof_age                          1.190585  \n",
       "secondary_floor_condition         2.344537  \n",
       "primary_floor_condition           3.443539  \n",
       "floor_type                       97.966847  \n",
       "floor_condition                  97.976005  "
      ]
     },
     "execution_count": 10,
     "metadata": {},
     "output_type": "execute_result"
    }
   ],
   "source": [
    "# summarizing the training data\n",
    "\n",
    "summarize(cs.train_data)"
   ]
  },
  {
   "cell_type": "markdown",
   "metadata": {
    "id": "yNQN5nmysGHi"
   },
   "source": [
    "Similarly, I can quickly explore the hold out data"
   ]
  },
  {
   "cell_type": "code",
   "execution_count": 11,
   "metadata": {
    "executionInfo": {
     "elapsed": 371,
     "status": "ok",
     "timestamp": 1617302742536,
     "user": {
      "displayName": "Bijan Seyednasrollah",
      "photoUrl": "https://lh3.googleusercontent.com/a-/AOh14Ggf_DzMxoOJiOB5ZJH4-aYWJbCyVxpnO2QV_3xkbg=s64",
      "userId": "13192249900192703380"
     },
     "user_tz": 420
    },
    "id": "tVsFv6FesGHj"
   },
   "outputs": [],
   "source": [
    "# summarizing the holdout data\n",
    "holdout_summary = summarize(cs.holdout_data)"
   ]
  },
  {
   "cell_type": "markdown",
   "metadata": {
    "id": "AYXDwx0isGHj"
   },
   "source": [
    "## Data Challenges\n",
    "\n",
    "There are several challenges of this dataset, that I summarize as follows:\n",
    "\n",
    "1. Missing data\n",
    "2. Multifarious data (various types)\n",
    "3. Multi-Colinearity\n",
    "\n",
    "\n",
    "### 1. Missing Data\n",
    "I followed several approaches to address missing data problem:\n",
    " - For few columns with more than 40% missing data, I dropped the column.\n",
    " - For `integer` data types, I replaced the missing data with the `median` value on the training dataset\n",
    " - For `float` data types, I replaced the missing data with the `mean` value on the training dataset\n",
    " - For `object` data types, I replaced the missing data with the `most frequent` value on the training dataset\n",
    " \n",
    "**Note:** The gap-filling process was fit on the `training` dataset and then transform on both the `training` and `holdout` data. \n",
    " \n",
    " \n",
    "### 2. Multifarious data (various types)\n",
    "\n",
    "The original data was in various types, including: `boolean`, `integer`, `float`, `categorical` and `raw (unparsed) text`. Therefore, the data should be preprocessed to be used in the model. I took the following approach:\n",
    "- `boolean` data were transformed to 0 for False and 1 for True values.\n",
    "- `integer` data were used as is.\n",
    "- `float` data were used as is.\n",
    "- `categorical` data were transformed to binary matrices, i.e. One-Hot-Encoding.\n",
    "- `raw (unparsed) text` data were first parsed to extract features and then used as binary matrices.\n",
    "\n",
    "\n",
    "### 3. Multi-Colinearity:\n",
    "I took two approaches to tackle this issue:\n",
    " - Using [Regularization](https://en.wikipedia.org/wiki/Regularization_(mathematics)) and regression method such as *[Lasso](https://en.wikipedia.org/wiki/Lasso_(statistics))* or *[Ridge](https://en.wikipedia.org/wiki/Tikhonov_regularization)* Regression methods.\n",
    " - or dropping the highly correlated features. \n",
    " \n",
    "**For the second approach:** \n",
    "After preprocessing the feature matrix, I dropped colinear feature using our embedded routine based on a [Variance Inflation Factor](https://en.wikipedia.org/wiki/Variance_inflation_factor) threshold.\n",
    "\n",
    "This procedure is performed inside the `drop_colinearity` function in the `CommonScope` module.\n",
    "\n",
    "\n",
    "### 4. Positive-Only Values:\n",
    "Another modeling challenge is that, regression methods are not bound between limits. However, the common scope estimates can not be negative. A general solution is to transform the values using natural log function. This has been in fact incorporatred in the recent `scikit-learn` packages by passing `positive = True` to the model constructor. \n",
    "\n"
   ]
  },
  {
   "cell_type": "markdown",
   "metadata": {
    "id": "3QfOHM-msGHj"
   },
   "source": [
    "## Modeling\n",
    "\n",
    "In the `CommonScope` Class, I implemented three different models as options: Linear Regression, Lasso Regression and Ridge Regression. All three can be easily called either when the `__init__` constructor is called or when the `fit` method is called. \n",
    "\n",
    "In addition to the these regression models, I also implemented a Neural Network in TensorFlow which does not show significant improvements over the regression methods.\n",
    "\n",
    "However, I took one step further and only for comparison purposes, I trained an AutoML model on `Google Cloud Platform`. The main challenge for AutoML, however, is that there is little control on model tuning. And there would be an additional cost for modeling and predictions as well as for I/O. So I only compared the results from AutoML to the results from my home-grown `CommonScope` module.\n"
   ]
  },
  {
   "cell_type": "code",
   "execution_count": 12,
   "metadata": {
    "colab": {
     "base_uri": "https://localhost:8080/"
    },
    "executionInfo": {
     "elapsed": 911,
     "status": "ok",
     "timestamp": 1617302745154,
     "user": {
      "displayName": "Bijan Seyednasrollah",
      "photoUrl": "https://lh3.googleusercontent.com/a-/AOh14Ggf_DzMxoOJiOB5ZJH4-aYWJbCyVxpnO2QV_3xkbg=s64",
      "userId": "13192249900192703380"
     },
     "user_tz": 420
    },
    "id": "KcQZY3zbsGHj",
    "outputId": "32d15f1f-b9c9-408e-8d0b-bf792c059651"
   },
   "outputs": [
    {
     "name": "stdout",
     "output_type": "stream",
     "text": [
      "{'train': {'R²': 0.34431613749556433, 'MAE': 3633.5876029172587, 'rMSE': 5046.289487018266}, 'test': {'R²': 0.3518650354946905, 'MAE': 3545.394468202433, 'rMSE': 4846.795866542509}}\n"
     ]
    },
    {
     "data": {
      "text/plain": [
       "{'model': Lasso(alpha=0.2, normalize=True, positive=True),\n",
       " 'model_summary': {'train': {'R²': 0.34431613749556433,\n",
       "   'MAE': 3633.5876029172587,\n",
       "   'rMSE': 5046.289487018266},\n",
       "  'test': {'R²': 0.3518650354946905,\n",
       "   'MAE': 3545.394468202433,\n",
       "   'rMSE': 4846.795866542509}}}"
      ]
     },
     "execution_count": 12,
     "metadata": {},
     "output_type": "execute_result"
    }
   ],
   "source": [
    "cs.fit(verbose = True, \n",
    "       model_pars = {'positive': True, \n",
    "                     'alpha': .2},\n",
    "       model = 'Lasso')"
   ]
  },
  {
   "cell_type": "markdown",
   "metadata": {
    "id": "4VEFvhcYvhec"
   },
   "source": [
    "## Analyzing the Predictions"
   ]
  },
  {
   "cell_type": "code",
   "execution_count": 13,
   "metadata": {
    "colab": {
     "base_uri": "https://localhost:8080/",
     "height": 296
    },
    "executionInfo": {
     "elapsed": 1016,
     "status": "ok",
     "timestamp": 1617302748162,
     "user": {
      "displayName": "Bijan Seyednasrollah",
      "photoUrl": "https://lh3.googleusercontent.com/a-/AOh14Ggf_DzMxoOJiOB5ZJH4-aYWJbCyVxpnO2QV_3xkbg=s64",
      "userId": "13192249900192703380"
     },
     "user_tz": 420
    },
    "id": "7Y60RWPlsGHl",
    "outputId": "4da8ca83-3ade-4267-ea7a-91dc990c3400"
   },
   "outputs": [
    {
     "data": {
      "image/png": "[encoded data removed]",
      "text/plain": [
       "<Figure size 800x600 with 1 Axes>"
      ]
     },
     "metadata": {
      "needs_background": "light"
     },
     "output_type": "display_data"
    },
    {
     "name": "stdout",
     "output_type": "stream",
     "text": [
      "MAE = $3592.46\n",
      "rMSE = $4997.56\n",
      "R2 = 0.35\n"
     ]
    }
   ],
   "source": [
    "train_trues = cs.train_data.common_scope\n",
    "train_preds = cs.predict(cs.train_data)\n",
    "\n",
    "plt.plot(train_trues, \n",
    "         train_preds, \n",
    "         'o', \n",
    "         color='blue')\n",
    "\n",
    "plt.xlabel(\"True Values\")\n",
    "plt.ylabel(\"Predictions\")\n",
    "\n",
    "plt.xlim(0, 50000)\n",
    "\n",
    "plt.show()\n",
    "\n",
    "print(f'MAE = ${mean_absolute_error(train_trues, train_preds):.2f}')\n",
    "print(f'rMSE = ${mean_squared_error(train_trues, train_preds)**0.5:.2f}')\n",
    "print(f'R2 = {r2_score(train_trues, train_preds):.2f}')\n",
    "\n"
   ]
  },
  {
   "cell_type": "code",
   "execution_count": 14,
   "metadata": {},
   "outputs": [
    {
     "data": {
      "text/plain": [
       "(10919,)"
      ]
     },
     "execution_count": 14,
     "metadata": {},
     "output_type": "execute_result"
    }
   ],
   "source": [
    "(train_preds).shape"
   ]
  },
  {
   "cell_type": "markdown",
   "metadata": {
    "id": "aN30NiwBsGHj"
   },
   "source": [
    "## Predictions for the Hold-out Data"
   ]
  },
  {
   "cell_type": "code",
   "execution_count": 15,
   "metadata": {},
   "outputs": [],
   "source": [
    "holdout_preds = cs.predict(df= cs.holdout_data)\n",
    "\n"
   ]
  },
  {
   "cell_type": "code",
   "execution_count": 16,
   "metadata": {
    "colab": {
     "base_uri": "https://localhost:8080/",
     "height": 204
    },
    "executionInfo": {
     "elapsed": 387,
     "status": "ok",
     "timestamp": 1617302753327,
     "user": {
      "displayName": "Bijan Seyednasrollah",
      "photoUrl": "https://lh3.googleusercontent.com/a-/AOh14Ggf_DzMxoOJiOB5ZJH4-aYWJbCyVxpnO2QV_3xkbg=s64",
      "userId": "13192249900192703380"
     },
     "user_tz": 420
    },
    "id": "69wXXIBLsGHk",
    "outputId": "76d17172-0d4a-4e4c-b9b5-4db8a82ad0f3"
   },
   "outputs": [
    {
     "data": {
      "text/html": [
       "<div>\n",
       "<style scoped>\n",
       "    .dataframe tbody tr th:only-of-type {\n",
       "        vertical-align: middle;\n",
       "    }\n",
       "\n",
       "    .dataframe tbody tr th {\n",
       "        vertical-align: top;\n",
       "    }\n",
       "\n",
       "    .dataframe thead th {\n",
       "        text-align: right;\n",
       "    }\n",
       "</style>\n",
       "<table border=\"1\" class=\"dataframe\">\n",
       "  <thead>\n",
       "    <tr style=\"text-align: right;\">\n",
       "      <th></th>\n",
       "      <th>flip_token</th>\n",
       "      <th>prediction</th>\n",
       "    </tr>\n",
       "  </thead>\n",
       "  <tbody>\n",
       "    <tr>\n",
       "      <th>0</th>\n",
       "      <td>560EQGK7A1YM</td>\n",
       "      <td>10254.794661</td>\n",
       "    </tr>\n",
       "    <tr>\n",
       "      <th>1</th>\n",
       "      <td>N283R19X7QWF</td>\n",
       "      <td>8490.249340</td>\n",
       "    </tr>\n",
       "    <tr>\n",
       "      <th>2</th>\n",
       "      <td>7HNA53BSS2D92</td>\n",
       "      <td>5235.385524</td>\n",
       "    </tr>\n",
       "    <tr>\n",
       "      <th>3</th>\n",
       "      <td>NN5R58HDGFB2</td>\n",
       "      <td>1826.118206</td>\n",
       "    </tr>\n",
       "    <tr>\n",
       "      <th>4</th>\n",
       "      <td>2XDMCE3HDXNNP</td>\n",
       "      <td>13489.127581</td>\n",
       "    </tr>\n",
       "  </tbody>\n",
       "</table>\n",
       "</div>"
      ],
      "text/plain": [
       "      flip_token    prediction\n",
       "0   560EQGK7A1YM  10254.794661\n",
       "1   N283R19X7QWF   8490.249340\n",
       "2  7HNA53BSS2D92   5235.385524\n",
       "3   NN5R58HDGFB2   1826.118206\n",
       "4  2XDMCE3HDXNNP  13489.127581"
      ]
     },
     "execution_count": 16,
     "metadata": {},
     "output_type": "execute_result"
    }
   ],
   "source": [
    "holdout_preds = cs.predict(df= cs.holdout_data)\n",
    "\n",
    "holdout_preds = pd.DataFrame({'flip_token': cs.holdout_data.flip_token.to_list(),\n",
    "                             'prediction': holdout_preds.reshape(len(holdout_preds))})\n",
    "\n",
    "holdout_preds.head()\n",
    "\n"
   ]
  },
  {
   "cell_type": "markdown",
   "metadata": {
    "id": "GtSNSuEesGHk"
   },
   "source": [
    "### Exporting the predictions"
   ]
  },
  {
   "cell_type": "code",
   "execution_count": 17,
   "metadata": {
    "executionInfo": {
     "elapsed": 563,
     "status": "ok",
     "timestamp": 1617302755632,
     "user": {
      "displayName": "Bijan Seyednasrollah",
      "photoUrl": "https://lh3.googleusercontent.com/a-/AOh14Ggf_DzMxoOJiOB5ZJH4-aYWJbCyVxpnO2QV_3xkbg=s64",
      "userId": "13192249900192703380"
     },
     "user_tz": 420
    },
    "id": "Z2I4je6_sGHl"
   },
   "outputs": [],
   "source": [
    "holdout_preds.to_csv('data/holdout_predictions.csv', \n",
    "                     index = False)"
   ]
  },
  {
   "cell_type": "markdown",
   "metadata": {
    "id": "xEOxkB0XsGHl"
   },
   "source": [
    "## Comparison Our Model vs. AutoML\n",
    "\n",
    "Below I compare the results from my model with results from an AutoML that I trained on GCP. Both models were applied on holdout dataset.\n",
    "\n",
    "The results showed AutoML predictions are very similar to the model shown here.  "
   ]
  },
  {
   "cell_type": "code",
   "execution_count": 18,
   "metadata": {
    "colab": {
     "base_uri": "https://localhost:8080/",
     "height": 296
    },
    "executionInfo": {
     "elapsed": 621,
     "status": "ok",
     "timestamp": 1617302762513,
     "user": {
      "displayName": "Bijan Seyednasrollah",
      "photoUrl": "https://lh3.googleusercontent.com/a-/AOh14Ggf_DzMxoOJiOB5ZJH4-aYWJbCyVxpnO2QV_3xkbg=s64",
      "userId": "13192249900192703380"
     },
     "user_tz": 420
    },
    "id": "YykhH1frsGHl",
    "outputId": "e63e80b6-7efc-4c67-8877-5fdfd2ef7e25"
   },
   "outputs": [
    {
     "data": {
      "image/png": "[encoded data removed]",
      "text/plain": [
       "<Figure size 800x600 with 1 Axes>"
      ]
     },
     "metadata": {
      "needs_background": "light"
     },
     "output_type": "display_data"
    },
    {
     "name": "stdout",
     "output_type": "stream",
     "text": [
      "R2 =  0.8175241247605917\n"
     ]
    }
   ],
   "source": [
    "automl_pred_holdout = pd.read_csv('data/holdout_predictions_automl.csv')\n",
    "\n",
    "bijan_vs_automl = holdout_preds.merge(automl_pred_holdout, \n",
    "                                      on= 'flip_token')\n",
    "\n",
    "plt.plot(bijan_vs_automl.prediction, \n",
    "         bijan_vs_automl.automl_predictions, \n",
    "         'o', \n",
    "         color='orange')\n",
    "\n",
    "plt.xlabel(\"Bijan's Model\")\n",
    "plt.ylabel(\"Google's AutoML\")\n",
    "\n",
    "plt.show()\n",
    "\n",
    "print('R2 = ', r2_score(bijan_vs_automl.prediction, \n",
    "                   bijan_vs_automl.automl_predictions))"
   ]
  },
  {
   "cell_type": "markdown",
   "metadata": {
    "id": "skWEIg0Yti9Y"
   },
   "source": [
    "# Analyzing for the Business Value (BV)\n",
    "\n",
    "### What we know:\n",
    "\n",
    "- For every $150 in repair charge we can expect to have a 1% withdrawal rate.\n",
    "\n",
    "- Every home Opendoor acquires translates to $5000 in profit on average\n",
    "\n",
    "- Eliminate inspections may reduce withdrawal rates by 5 percentage points."
   ]
  },
  {
   "cell_type": "code",
   "execution_count": 19,
   "metadata": {},
   "outputs": [],
   "source": [
    "# putting these in numbers\n",
    "\n",
    "withdrawal_rate_per_cost = 0.01 / 150 \n",
    "profit_per_sale = 5000\n",
    "reduced_withdrawal_for_convenience = 0.05\n",
    "#average_gain = (train_preds. - train_trues).mean()\n",
    "average_gain = (train_trues.values - train_preds.reshape(len(train_preds))).mean()"
   ]
  },
  {
   "cell_type": "markdown",
   "metadata": {},
   "source": [
    "# Back of the Envolope Calculations for BV"
   ]
  },
  {
   "cell_type": "code",
   "execution_count": 20,
   "metadata": {},
   "outputs": [
    {
     "data": {
      "text/markdown": [
       "## On average the change in estimates is -45.73 USD,"
      ],
      "text/plain": [
       "<IPython.core.display.Markdown object>"
      ]
     },
     "metadata": {},
     "output_type": "display_data"
    },
    {
     "data": {
      "text/markdown": [
       "##         &nbsp;&nbsp;&nbsp;&nbsp;&nbsp;&nbsp;&nbsp;&nbsp;         which is equivalent of -45.73 USD."
      ],
      "text/plain": [
       "<IPython.core.display.Markdown object>"
      ]
     },
     "metadata": {},
     "output_type": "display_data"
    },
    {
     "data": {
      "text/markdown": [
       "## Changed withdrawal for estimates change: -0.30%"
      ],
      "text/plain": [
       "<IPython.core.display.Markdown object>"
      ]
     },
     "metadata": {},
     "output_type": "display_data"
    },
    {
     "data": {
      "text/markdown": [
       "##                 &nbsp;&nbsp;&nbsp;&nbsp;&nbsp;&nbsp;&nbsp;&nbsp;         which is equivalent of 15.24 USD."
      ],
      "text/plain": [
       "<IPython.core.display.Markdown object>"
      ]
     },
     "metadata": {},
     "output_type": "display_data"
    },
    {
     "data": {
      "text/markdown": [
       "## Decreased withdrawal for convenience: 5.00%"
      ],
      "text/plain": [
       "<IPython.core.display.Markdown object>"
      ]
     },
     "metadata": {},
     "output_type": "display_data"
    },
    {
     "data": {
      "text/markdown": [
       "##         &nbsp;&nbsp;&nbsp;&nbsp;&nbsp;&nbsp;&nbsp;&nbsp;         which is equivalent of 250.00 USD."
      ],
      "text/plain": [
       "<IPython.core.display.Markdown object>"
      ]
     },
     "metadata": {},
     "output_type": "display_data"
    },
    {
     "name": "stdout",
     "output_type": "stream",
     "text": [
      "\n",
      "\n",
      "\n"
     ]
    },
    {
     "data": {
      "text/markdown": [
       "## In other words:"
      ],
      "text/plain": [
       "<IPython.core.display.Markdown object>"
      ]
     },
     "metadata": {},
     "output_type": "display_data"
    },
    {
     "data": {
      "text/markdown": [
       "## If every request was completed, then the ideal net profit was: $5000.00."
      ],
      "text/plain": [
       "<IPython.core.display.Markdown object>"
      ]
     },
     "metadata": {},
     "output_type": "display_data"
    },
    {
     "data": {
      "text/markdown": [
       "##  But because of withdrawal, the current net profit is: $2652.52."
      ],
      "text/plain": [
       "<IPython.core.display.Markdown object>"
      ]
     },
     "metadata": {},
     "output_type": "display_data"
    },
    {
     "data": {
      "text/markdown": [
       "##  If we use the model estimates, the net profit will be: $2841.55."
      ],
      "text/plain": [
       "<IPython.core.display.Markdown object>"
      ]
     },
     "metadata": {},
     "output_type": "display_data"
    },
    {
     "name": "stdout",
     "output_type": "stream",
     "text": [
      "\n",
      "\n",
      "\n",
      "\n"
     ]
    },
    {
     "data": {
      "text/markdown": [
       "# This is a total of $219.51 net gain in profit,             or %8.28."
      ],
      "text/plain": [
       "<IPython.core.display.Markdown object>"
      ]
     },
     "metadata": {},
     "output_type": "display_data"
    },
    {
     "name": "stdout",
     "output_type": "stream",
     "text": [
      "\n",
      "\n",
      "\n",
      "\n"
     ]
    }
   ],
   "source": [
    "# calculating avergae gain if predictions were used instead of true estimates\n",
    "increased_withdrawal_for_cost = average_gain*withdrawal_rate_per_cost\n",
    "net_model_gain = average_gain + profit_per_sale * (reduced_withdrawal_for_convenience - increased_withdrawal_for_cost) \n",
    "\n",
    "ideal_profit = profit_per_sale\n",
    "current_net_profit = profit_per_sale * (1- train_trues.mean() * withdrawal_rate_per_cost)\n",
    "model_net_profit = average_gain + profit_per_sale * (1 - train_preds.mean() * withdrawal_rate_per_cost + reduced_withdrawal_for_convenience)\n",
    "\n",
    "\n",
    "\n",
    "printmd(f'## On average the change in estimates is {average_gain:.2f} USD,')\n",
    "printmd(f'## \\\n",
    "        &nbsp;&nbsp;&nbsp;&nbsp;&nbsp;&nbsp;&nbsp;&nbsp; \\\n",
    "        which is equivalent of {average_gain:.2f} USD.')\n",
    "\n",
    "\n",
    "printmd(f'## Changed withdrawal for estimates change: {increased_withdrawal_for_cost*100:.2f}%')\n",
    "printmd(f'## \\\n",
    "                &nbsp;&nbsp;&nbsp;&nbsp;&nbsp;&nbsp;&nbsp;&nbsp; \\\n",
    "        which is equivalent of {- profit_per_sale * increased_withdrawal_for_cost:.2f} USD.')\n",
    "\n",
    "printmd(f'## Decreased withdrawal for convenience: {reduced_withdrawal_for_convenience*100:.2f}%')\n",
    "printmd(f'## \\\n",
    "        &nbsp;&nbsp;&nbsp;&nbsp;&nbsp;&nbsp;&nbsp;&nbsp; \\\n",
    "        which is equivalent of {profit_per_sale * reduced_withdrawal_for_convenience:.2f} USD.')\n",
    "\n",
    "\n",
    "print('\\n\\n')\n",
    "\n",
    "printmd(f\"## In other words:\")\n",
    "\n",
    "printmd(f\"## If every request was completed, then the ideal net profit was: ${ideal_profit:.2f}.\")\n",
    "printmd(f\"##  But because of withdrawal, the current net profit is: ${current_net_profit:.2f}.\")\n",
    "printmd(f\"##  If we use the model estimates, the net profit will be: ${model_net_profit:.2f}.\")\n",
    "\n",
    "print('\\n\\n\\n')\n",
    "\n",
    "\n",
    "printmd(f'# This is a total of ${net_model_gain:.2f} net gain in profit, \\\n",
    "            or %{net_model_gain / current_net_profit * 100:.2f}.')\n",
    "\n",
    "print('\\n\\n\\n')\n",
    "\n"
   ]
  },
  {
   "cell_type": "code",
   "execution_count": 21,
   "metadata": {},
   "outputs": [
    {
     "data": {
      "image/png": "[encoded data removed]",
      "text/plain": [
       "<Figure size 800x600 with 1 Axes>"
      ]
     },
     "metadata": {
      "needs_background": "light"
     },
     "output_type": "display_data"
    }
   ],
   "source": [
    "\n",
    "labels = ['Change in Cost', 'Withdrawal', 'Convenience']\n",
    "\n",
    "gain_loss = [average_gain, \n",
    "        - profit_per_sale * increased_withdrawal_for_cost, \n",
    "        profit_per_sale * reduced_withdrawal_for_convenience]\n",
    "\n",
    "plt.bar(labels, gain_loss, color = ['orange', 'darkcyan', 'darkcyan'])\n",
    "plt.ylabel('Average Gain in USD')\n",
    "plt.show()"
   ]
  },
  {
   "cell_type": "code",
   "execution_count": 22,
   "metadata": {},
   "outputs": [
    {
     "data": {
      "image/png": "[encoded data removed]",
      "text/plain": [
       "<Figure size 800x600 with 1 Axes>"
      ]
     },
     "metadata": {
      "needs_background": "light"
     },
     "output_type": "display_data"
    }
   ],
   "source": [
    "\n",
    "labels = ['Ideal ', 'Current', 'Propsed']\n",
    "\n",
    "gain_loss = [profit_per_sale, \n",
    "             current_net_profit,\n",
    "             model_net_profit]\n",
    "\n",
    "plt.bar(labels, gain_loss, \n",
    "        color = ['grey', 'darkcyan', 'orange'])\n",
    "plt.ylabel('Net Profit in USD')\n",
    "plt.xlabel('Scenarios')\n",
    "plt.title(f'{net_model_gain / current_net_profit * 100:.1f}% Net Profit Gain')\n",
    "plt.show()"
   ]
  },
  {
   "cell_type": "markdown",
   "metadata": {},
   "source": [
    "# Solutions:\n",
    "\n",
    "As our crude model showed significant improvement over the traditional estimation methods, I believe our analysis proves that there is a business value in providing modeled estimates at the time of offer.  \n",
    "\n",
    "Therefore, I propose a road map with two major milestones as follows:\n",
    "\n",
    "## V0 solution (1 Month)\n",
    "Our analysis is purely data-driven, so the quality and quantity of the data would have strong impact on the performance and accuracy of the model. \n",
    "\n",
    "As the first step, the following steps are proposed as a road map:\n",
    "\n",
    "- Improve data quality \n",
    "- Increase the coverage\n",
    "- Diversify the data as much as possible\n",
    "- Utilize external datasets, especially localized datasets for each market\n",
    "- Apply the new data data to th\n",
    "- Report how the model predictions have (likely) improved with the new dataset\n",
    "\n",
    "By the end of this milestone, an improved, more diverse and larger dataset is applied to the model.\n",
    "\n",
    "## V1 solution (1 Quarter)\n",
    "After improving the data quality and quantity and identifying most important features, we should evaluate the model via the following steps:\n",
    "\n",
    "\n",
    "- Perform a sensitivity analysis of the model to each variable\n",
    "- Identify the most important features interacting with each other\n",
    "- Include interaction effects in the features\n",
    "- Perform a model selection analysis such as [Akaike Information Criterion](https://en.wikipedia.org/wiki/Akaike_information_criterion)\n",
    "- Identify where (and possibly why) the model suffers the most\n",
    "- Diagnose the model for underestimations at the higher end\n",
    "\n",
    "\n",
    "By the end of this milestone, the model has been improved and an improved, more diverse and larger dataset is applied to the improved model.\n",
    "\n",
    "\n"
   ]
  },
  {
   "cell_type": "code",
   "execution_count": 23,
   "metadata": {},
   "outputs": [],
   "source": [
    "'''\n",
    "Author: Bijan Seyednasrollah\n",
    "Date: March 31, 2021\n",
    "\n",
    "Python module to load, preprocess, and analyze common scope estimates based on home features.\n",
    "\n",
    "The purpose of this module is to facilitate data modeling for common scope estimates.\n",
    "\n",
    "'''\n",
    "\n",
    "import pandas as pd\n",
    "import numpy as np\n",
    "import logging\n",
    "\n",
    "import re\n",
    "\n",
    "from sklearn.impute import SimpleImputer\n",
    "from sklearn.linear_model import LinearRegression, Lasso, Ridge\n",
    "from sklearn.model_selection import train_test_split\n",
    "from sklearn.metrics import mean_squared_error, mean_absolute_error, r2_score\n",
    "from sklearn.preprocessing import Normalizer, StandardScaler\n",
    "from statsmodels.stats.outliers_influence import variance_inflation_factor    \n",
    "\n",
    "\n",
    "def summarize(df):\n",
    "    '''\n",
    "    Takes in a dataframe, returns a summary table of the following:\n",
    "        - column_name\n",
    "        - data_type\n",
    "        - unique_values\n",
    "        - percent_missing\n",
    "        \n",
    "    Args:\n",
    "        df (pandas dataframe): input dataframe\n",
    "        \n",
    "    Returns:\n",
    "        pandas dataframe: The return value\n",
    "    '''\n",
    "\n",
    "    columns_summary = pd.DataFrame({'column_name': df.columns,\n",
    "                                    'data_type': df.dtypes,\n",
    "                                    'unique_values': df.nunique(),\n",
    "                                    'percent_missing': df.isnull().sum() * 100 / len(df)})\n",
    "\n",
    "    columns_summary = columns_summary.sort_values( by = ['data_type', 'percent_missing'])\n",
    "\n",
    "    return columns_summary\n",
    "\n",
    "\n",
    "def drop_colinearity(df, \n",
    "                     verbose = False,\n",
    "                     thresh=10.0):\n",
    "    \n",
    "    '''\n",
    "    Takes in a dataframe, drops colinear columns and retruns the rest.\n",
    "        \n",
    "    Args:\n",
    "        df (pandas dataframe): input dataframe\n",
    "        verbose (boolean): whether print out the progress\n",
    "        threshold (float): maximum VIF score\n",
    "    Returns:\n",
    "        pandas dataframe: The return dataframe\n",
    "    '''\n",
    "    \n",
    "    variables = list(range(df.shape[1]))\n",
    "    dropped = True\n",
    "    \n",
    "    while dropped:\n",
    "        dropped = False\n",
    "        vif = [variance_inflation_factor(df.iloc[:, variables].values, ix)\n",
    "               for ix in range(df.iloc[:, variables].shape[1])]\n",
    "\n",
    "        maxloc = vif.index(max(vif))\n",
    "        if max(vif) > thresh:\n",
    "            if verbose:\n",
    "                print('dropping \\'' + df.iloc[:, variables].columns[maxloc] +\n",
    "                      '\\' at index: ' + str(maxloc))\n",
    "            del variables[maxloc]\n",
    "            dropped = True\n",
    "\n",
    "    \n",
    "    return variables\n",
    "\n",
    "\n",
    "\n",
    "class CommonScope:\n",
    "    '''\n",
    "    Common scope data are loaded, trained and predicted in one place.\n",
    "    \n",
    "    Args:\n",
    "        train_file (string): file path to the training dataset\n",
    "        holdout_file (string): file path to the holdout dataset\n",
    "        drop_colinears (bool): whether to drop colinear variables based on VIF.\n",
    "        model (string): \"LinearRegression\", \"Lasso\", \"Ridge\" or a model function.\n",
    "\n",
    "    \n",
    "    Attributes:\n",
    "        train_file (string): file path to the training dataset\n",
    "        holdout_file (string): file path to the holdout dataset        \n",
    "        columns (dict): dictionary of column names with their type\n",
    "        train_data (dataframe): training dataset\n",
    "        holdout_data (dataframe): holdout dataset\n",
    "        imputers (dict): imputers for the data types\n",
    "        preprocessed_feature (dataframe): preprocessed training features data\n",
    "        drop_colinears (bool): whether to drop colinear variables based on VIF.\n",
    "        model (string): \"LinearRegression\", \"Lasso\", \"Ridge\" or a model function.\n",
    "    '''\n",
    "    \n",
    "    def __init__(self, \n",
    "                 train_file = None,\n",
    "                 holdout_file = None,\n",
    "                 drop_colinears = False,\n",
    "                 model = 'LinearRegression'\n",
    "                ):\n",
    "        \n",
    "        self.train_file = train_file\n",
    "        self.holdout_file = holdout_file\n",
    "        \n",
    "        self.columns = self.__group_columns()\n",
    "        \n",
    "        self.train_data = None\n",
    "        self.holdout_data = None\n",
    "        self.imputers = None\n",
    "        self.preprocessed_feature = None\n",
    "        self.included_variables = None\n",
    "        self.drop_colinears = drop_colinears\n",
    "        self.model = model\n",
    "        \n",
    "        if train_file is not None:\n",
    "            self.load_data(file_path = train_file)\n",
    "        \n",
    "        if holdout_file is not None:\n",
    "            self.load_data(file_path = holdout_file, holdout = True)\n",
    "        \n",
    "\n",
    "    def __extract_feature_matrix(self, df, column_name):\n",
    "        '''\n",
    "        Internal method for parsing feature of bathrooms, bedrooms, etc.\n",
    "        \n",
    "        Args:\n",
    "            input_series (Series): one-dimensional data of features\n",
    "            \n",
    "        Returns:\n",
    "            processed data as binart matrix\n",
    "        '''\n",
    "        \n",
    "        features_list = {'bathroom_features': ['granite_countertops', 'double_sink', \n",
    "                                               'separate_shower_tub', 'tile_surround', \n",
    "                                               'updated_tile_floors', 'custom_tub_shower'],\n",
    "                         \n",
    "                         'kitchen_features': ['stainless_steel_appliances', 'new_cabinets', \n",
    "                                              'kitchen_island', 'double_ovens', 'tile_backsplash'],\n",
    "                         \n",
    "                         'eligibility_features': ['septic', 'permitted_addition', \n",
    "                                                  'history_of_chemical_contamination', \n",
    "                                                  'owned_solar_panels', 'leased_solar_panels', \n",
    "                                                  'unpermitted_addition', 'age_restricted_community', \n",
    "                                                  'flood_history', 'gated_community', \n",
    "                                                  'solar_panels', 'known_foundation_issues']}\n",
    "\n",
    "\n",
    "        input_series = df[column_name]\n",
    "        \n",
    "#        long_string = input_series.str.cat(sep=' ')\n",
    "\n",
    "#        features = set(re.sub(pattern = \"\\[|\\]|'|,|_none_|\", \n",
    "#                   repl = '', \n",
    "#                   string = long_string).split(sep = ' '))\n",
    "\n",
    "#        features.remove('')\n",
    "        \n",
    "        features = features_list[column_name]\n",
    "\n",
    "        mat = pd.DataFrame(columns = features)\n",
    "\n",
    "        for feature in mat.columns:\n",
    "            mat[feature] = input_series.str.contains(feature) * 1\n",
    "\n",
    "        return mat\n",
    "\n",
    "\n",
    "    def load_data(self, file_path, holdout = False):\n",
    "        '''\n",
    "        Loads data from data file.\n",
    "        \n",
    "        Args:\n",
    "            file_path (string): system path to the data file \n",
    "            holdout (bool): True or False whether the data set is holdout\n",
    "\n",
    "        Returns:\n",
    "            No return value. The data is loaded in the class.\n",
    "        '''\n",
    "        try: \n",
    "            df = pd.read_csv(file_path)\n",
    "        except IOError as err:\n",
    "            print(err)\n",
    "            return \n",
    "        \n",
    "        if holdout:\n",
    "            self.holdout_data = df\n",
    "            print(f'\"{file_path}\" was loaded as the hold-out data set: {df.shape[0]} x {df.shape[1]}')\n",
    "        else:\n",
    "            self.train_data = df\n",
    "            print(f'\"{file_path}\" was loaded as the training data set: {df.shape[0]} x {df.shape[1]}')\n",
    "\n",
    "\n",
    "    def __group_columns(self):\n",
    "        '''\n",
    "        Internal method to classify column names based on their types.\n",
    "        \n",
    "        Args: \n",
    "            No arguments needed.\n",
    "        \n",
    "        Return:\n",
    "            dict: Data type to lists of column names\n",
    "        '''\n",
    "        \n",
    "        bool_cols = ['has_renovation', 'in_gated_community']\n",
    "\n",
    "        int_cols = ['bathrooms_full', 'bathrooms_half', 'bedrooms', 'exterior_stories',\n",
    "                    'garage_spaces', 'pool', 'renovation_amount']\n",
    "\n",
    "        float_cols = ['total_finished_sq_ft', 'basement_finished_sq_ft', 'sq_ft',\n",
    "                      'above_grade_sq_ft', 'age', 'f_days_since_prev_close']\n",
    "\n",
    "        object_cols = ['back_yard_condition', 'bathroom_condition', 'front_yard_condition',\n",
    "                       'kitchen_appliance_type', 'kitchen_condition', 'kitchen_countertop',\n",
    "                       'paint_condition', 'primary_floor_condition', 'primary_floor_type', \n",
    "                       'secondary_floor_condition', 'secondary_floor_type', 'market_name', \n",
    "                       'hvac_age', 'roof_age']\n",
    "\n",
    "        features_cols = ['bathroom_features', 'eligibility_features', 'kitchen_features']\n",
    "\n",
    "        date_cols = ['valuation_date']\n",
    "\n",
    "        excluded_cols = ['flip_token', 'basement_unfinished_sq_ft', 'floor_condition', \n",
    "                         'floor_type', 'bathrooms', 'pool_above_ground']\n",
    "        \n",
    "        label_col = ['common_scope']\n",
    "        \n",
    "        return {'bool': bool_cols,\n",
    "                'int': int_cols,\n",
    "                'float': float_cols,\n",
    "                'object': object_cols,\n",
    "                'feature': features_cols,\n",
    "                'date': date_cols,\n",
    "                'exclude': excluded_cols,\n",
    "                'label': label_col}\n",
    "\n",
    "    \n",
    "    def __set_imputers(self):\n",
    "        '''\n",
    "        Internal method to set imputers.\n",
    "        \n",
    "        Args:\n",
    "            No input arguments needed.\n",
    "        \n",
    "        Returns:\n",
    "            dict: Three imputers for integer, float and object columns.\n",
    "        '''\n",
    "        \n",
    "        if self.train_data is None:\n",
    "            raise('Training data is not loaded yet!')\n",
    "\n",
    "        df = self.train_data\n",
    "        \n",
    "        int_cols = self.columns['int']\n",
    "        float_cols = self.columns['float']\n",
    "        object_cols = self.columns['object']\n",
    "\n",
    "        self.imputers = {'int': SimpleImputer(strategy= 'median').fit(df[int_cols]), \n",
    "                         'float': SimpleImputer(strategy= 'mean').fit(df[float_cols]),\n",
    "                         'object': SimpleImputer( strategy= 'most_frequent').fit(df[object_cols])}\n",
    "\n",
    "        \n",
    "    def __preprocessing(self, \n",
    "                       df):\n",
    "        '''\n",
    "        Internal method to preprocess the data.\n",
    "        \n",
    "        Args:\n",
    "            df (dataframe): input dataframe to get processed.\n",
    "            \n",
    "        Retruns:\n",
    "            dataframe: output processed dataframe.\n",
    "        '''\n",
    "        \n",
    "        if self.train_data is None:\n",
    "            print('Training data is not loaded yet!')\n",
    "            return None\n",
    "        \n",
    "        int_cols = self.columns['int']\n",
    "        float_cols = self.columns['float']\n",
    "        object_cols = self.columns['object']\n",
    "        date_cols = self.columns['date']\n",
    "        features_cols = self.columns['feature']\n",
    "        bool_cols = self.columns['bool']\n",
    "        \n",
    "        self.__set_imputers()\n",
    "\n",
    "        df_imputed_int = pd.DataFrame(self.imputers['int'].transform(df[int_cols]),\n",
    "                                      columns = df[int_cols].columns)\n",
    "        \n",
    "        df_imputed_float = pd.DataFrame(self.imputers['float'].transform(df[float_cols]),\n",
    "                                                 columns = df[float_cols].columns)\n",
    "\n",
    "        df_imputed_object = pd.DataFrame(self.imputers['object'].transform(df[object_cols]),\n",
    "                                                 columns = df[object_cols].columns)\n",
    "        \n",
    "        df_imputed_object_dummies = pd.get_dummies(data = df_imputed_object, drop_first=True)\n",
    "\n",
    "        df_date = pd.concat([pd.to_datetime(df[date_cols].iloc[:,0]).dt.year, \n",
    "                   pd.to_datetime(df[date_cols].iloc[:,0]).dt.month, \n",
    "                   pd.to_datetime(df[date_cols].iloc[:,0]).dt.day, \n",
    "                   pd.to_datetime(df[date_cols].iloc[:,0]).dt.dayofweek], \n",
    "                            axis = 1)\n",
    "        \n",
    "        df_date.columns = ['valuation_year', 'valuation_month', 'valuation_day', 'valuation_dayofweek']\n",
    "\n",
    "        df_features_mat = pd.concat([self.__extract_feature_matrix(df, features_cols[0]),\n",
    "                                    self.__extract_feature_matrix(df, features_cols[1]),\n",
    "                                    self.__extract_feature_matrix(df, features_cols[2])],\n",
    "                                    axis = 1)\n",
    "        \n",
    "        df_features_mat = df_features_mat.fillna(0)\n",
    "        \n",
    "        df_wrangled = pd.concat([df_date, \n",
    "                                df[bool_cols]*1,\n",
    "                                df_imputed_int,\n",
    "                                df_features_mat,\n",
    "                                df_imputed_float,\n",
    "                                df_imputed_object_dummies\n",
    "                                ], axis = 1)\n",
    "\n",
    "        df_wrangled = pd.concat([\n",
    "                                df_wrangled,\n",
    "                                np.abs(df_wrangled),    \n",
    "                                df_wrangled**0.5,\n",
    "                                df_wrangled**2,\n",
    "                                df_wrangled**3\n",
    "        ],\n",
    "                                axis = 1)\n",
    "        \n",
    "        return df_wrangled\n",
    "\n",
    "\n",
    "    def fit(self, \n",
    "            test_size = 0.2, \n",
    "            random_state = 2020,\n",
    "            verbose = True, \n",
    "            model = None,\n",
    "            model_pars = {'positive': True,\n",
    "                        'alpha': 0.1}):\n",
    "        \n",
    "        '''\n",
    "        Fits the training data on the model.\n",
    "        \n",
    "        Args:\n",
    "            test_size (float): between 0-1, fraction of the test data\n",
    "            random_state (int): random state \n",
    "            verbose (bool): True to verbose, False to not verbose\n",
    "            model (string): \"LinearRegression\", \"Lasso\", \"Ridge\" or a model function.\n",
    "            model_pars (dict): dictionary of model parameters\n",
    "        \n",
    "        Returns:\n",
    "            model object\n",
    "        '''\n",
    "        \n",
    "        if model is None:\n",
    "            model = self.model\n",
    "            \n",
    "        train_data_processed = self.__preprocessing(self.train_data)\n",
    "\n",
    "        #identify colienar vairables\n",
    "        if self.drop_colinears:\n",
    "            self.included_variables = drop_colinearity(train_data_processed)\n",
    "        else:\n",
    "            self.included_variables = list(range(train_data_processed.shape[1]))\n",
    "        \n",
    "        features = train_data_processed.iloc[:, self.included_variables]\n",
    "        \n",
    "        self.preprocessed_feature = features\n",
    "        \n",
    "        if features is None:\n",
    "            return\n",
    "        \n",
    "        labels = self.train_data[self.columns['label']]\n",
    "        \n",
    "        X_train, X_test, y_train, y_test = train_test_split(features, \n",
    "                                                            labels,\n",
    "                                                            test_size = test_size, \n",
    "                                                            random_state = random_state)\n",
    "        \n",
    "        if model == 'LinearRegression':\n",
    "            model = LinearRegression(\n",
    "                normalize = True,\n",
    "                positive = model_pars['positive'] \n",
    "            )\n",
    "            \n",
    "        elif model == 'Lasso':\n",
    "            model = Lasso(\n",
    "                normalize = True,\n",
    "                positive= model_pars['positive'], \n",
    "                         alpha = model_pars['alpha'])\n",
    "            \n",
    "        elif model == 'Ridge':\n",
    "            model = Ridge(\n",
    "                normalize = True,\n",
    "                          \n",
    "                         alpha = model_pars['alpha'])\n",
    "\n",
    "        model.fit(X_train, y_train)\n",
    "\n",
    "        y_train_pred = model.predict(X_train)\n",
    "        \n",
    "        y_test_pred = model.predict(X_test)\n",
    "\n",
    "        model_summary = {'train': {'R²': r2_score(y_train, y_train_pred),\n",
    "                                        'MAE': mean_absolute_error(y_train, y_train_pred),\n",
    "                                        'rMSE': mean_squared_error(y_train, y_train_pred)**0.5},\n",
    "                              \n",
    "                              'test': {'R²': r2_score(y_test, y_test_pred),\n",
    "                                       'MAE': mean_absolute_error(y_test, y_test_pred),\n",
    "                                      'rMSE': mean_squared_error(y_test, y_test_pred)**0.5}\n",
    "                             }\n",
    "        \n",
    "        self.model = model\n",
    "        \n",
    "        self.model_summary = model_summary\n",
    "\n",
    "        if verbose:\n",
    "            print(self.model_summary)\n",
    "\n",
    "        return {'model': model,\n",
    "                'model_summary': model_summary}\n",
    "\n",
    "    def predict(self, df):\n",
    "        '''\n",
    "        Predicts the labels on a training or holdout data.\n",
    "        \n",
    "        Args:\n",
    "            df (dataframe): with specific format\n",
    "        \n",
    "        Returns:\n",
    "            vector of predicted labels\n",
    "        '''\n",
    "        \n",
    "        if df is None: \n",
    "            print('input data is None')\n",
    "            return\n",
    "        \n",
    "        features = self.__preprocessing(df)\n",
    "        features = features.iloc[:, self.included_variables]\n",
    "        \n",
    "        if features is None:\n",
    "            return \n",
    "\n",
    "        model = self.model\n",
    "            \n",
    "        labels_pred = model.predict(features)\n",
    "\n",
    "        labels_pred[labels_pred < 0] =0\n",
    "        \n",
    "        return labels_pred"
   ]
  },
  {
   "cell_type": "code",
   "execution_count": null,
   "metadata": {},
   "outputs": [],
   "source": []
  }
 ],
 "metadata": {
  "colab": {
   "collapsed_sections": [],
   "name": "vingettes.ipynb",
   "provenance": [],
   "toc_visible": true
  },
  "kernelspec": {
   "display_name": "Python 3",
   "language": "python",
   "name": "python3"
  },
  "language_info": {
   "codemirror_mode": {
    "name": "ipython",
    "version": 3
   },
   "file_extension": ".py",
   "mimetype": "text/x-python",
   "name": "python",
   "nbconvert_exporter": "python",
   "pygments_lexer": "ipython3",
   "version": "3.8.5"
  }
 },
 "nbformat": 4,
 "nbformat_minor": 4
}
